{
 "cells": [
  {
   "cell_type": "code",
   "execution_count": 6,
   "id": "8480ef04-e3a5-4a79-86c7-eb56f3b1efe4",
   "metadata": {},
   "outputs": [],
   "source": [
    "# Summary: This script demonstrates two tasks. \n",
    "# Task 1 replicates NumPy broadcasting using for loops. \n",
    "# Task 2 converts a Python dictionary into a NumPy array."
   ]
  },
  {
   "cell_type": "code",
   "execution_count": 7,
   "id": "6e4daa3a-0760-452c-b064-9b8bba9d715b",
   "metadata": {},
   "outputs": [
    {
     "name": "stdout",
     "output_type": "stream",
     "text": [
      "Result using broadcasting:\n",
      "[[-0.49214189  0.45607819  0.28183596 -3.90043439]\n",
      " [-0.26229311  0.75518888 -2.41688145 -1.11063629]\n",
      " [ 0.57387869 -0.39635354 -0.67614513 -0.2452416 ]\n",
      " [ 0.676082   -0.29216483 -0.44218937 -1.12471925]]\n",
      "\n",
      "Result using for loops:\n",
      "[[-0.49214189  0.45607819  0.28183596 -3.90043439]\n",
      " [-0.26229311  0.75518888 -2.41688145 -1.11063629]\n",
      " [ 0.57387869 -0.39635354 -0.67614513 -0.2452416 ]\n",
      " [ 0.676082   -0.29216483 -0.44218937 -1.12471925]]\n",
      "\n",
      "Results match!\n"
     ]
    }
   ],
   "source": [
    "#Task 1: Replicate Broadcasting Using For Loops\n",
    "import numpy as np\n",
    "\n",
    "# Set random seed for reproducibility\n",
    "np.random.seed(123)\n",
    "\n",
    "# Generate random arrays\n",
    "x = np.random.randn(4, 4)\n",
    "y = np.random.randn(4)\n",
    "\n",
    "# Broadcasting operation\n",
    "A_broadcast = x / y\n",
    "print(\"Result using broadcasting:\")\n",
    "print(A_broadcast)\n",
    "\n",
    "# Replicating broadcasting with for loops\n",
    "A_loop = np.zeros_like(x)  # Initialize an empty array with the same shape as x\n",
    "for i in range(x.shape[0]):  # Loop over rows\n",
    "    for j in range(x.shape[1]):  # Loop over columns\n",
    "        A_loop[i, j] = x[i, j] / y[j]  # Perform element-wise division\n",
    "\n",
    "print(\"\\nResult using for loops:\")\n",
    "print(A_loop)\n",
    "\n",
    "# Verify that both methods yield the same result\n",
    "assert np.allclose(A_broadcast, A_loop), \"The results do not match!\"\n",
    "print(\"\\nResults match!\")"
   ]
  },
  {
   "cell_type": "code",
   "execution_count": 8,
   "id": "dac2ec7d-a7f4-4d2d-b89b-5dbeeaa2c379",
   "metadata": {},
   "outputs": [
    {
     "name": "stdout",
     "output_type": "stream",
     "text": [
      "\n",
      "Dictionary:\n",
      "{'Name': ['Ed', 'Edd', 'Eddie'], 'Age': [25, 30, 35], 'Score': [85.5, 90.0, 88.0]}\n",
      "\n",
      "Converted NumPy array:\n",
      "[['Ed' 'Edd' 'Eddie']\n",
      " ['25' '30' '35']\n",
      " ['85.5' '90.0' '88.0']]\n",
      "\n",
      "Transposed NumPy array:\n",
      "[['Ed' '25' '85.5']\n",
      " ['Edd' '30' '90.0']\n",
      " ['Eddie' '35' '88.0']]\n"
     ]
    }
   ],
   "source": [
    "#Task 2: Convert Dictionary to NumPy Array\n",
    "# Example dictionary\n",
    "example_dict = {\n",
    "    \"Name\": [\"Ed\", \"Edd\", \"Eddie\"],\n",
    "    \"Age\": [25, 30, 35],\n",
    "    \"Score\": [85.5, 90.0, 88.0]\n",
    "}\n",
    "\n",
    "# Convert dictionary values to a NumPy array\n",
    "dict_array = np.array(list(example_dict.values()))\n",
    "\n",
    "# Display results\n",
    "print(\"\\nDictionary:\")\n",
    "print(example_dict)\n",
    "print(\"\\nConverted NumPy array:\")\n",
    "print(dict_array)\n",
    "\n",
    "# Optionally, transpose the array for better readability\n",
    "transposed_array = dict_array.T\n",
    "print(\"\\nTransposed NumPy array:\")\n",
    "print(transposed_array)"
   ]
  },
  {
   "cell_type": "code",
   "execution_count": null,
   "id": "8bc56fae-a176-46e1-aeaf-c5def009aebd",
   "metadata": {},
   "outputs": [],
   "source": []
  },
  {
   "cell_type": "code",
   "execution_count": null,
   "id": "2c3c3656-e33b-4f7c-99d9-51d31b19a0ce",
   "metadata": {},
   "outputs": [],
   "source": []
  },
  {
   "cell_type": "code",
   "execution_count": null,
   "id": "8bc65784-ac2d-4a90-975c-bfd64b8cf58d",
   "metadata": {},
   "outputs": [],
   "source": []
  },
  {
   "cell_type": "code",
   "execution_count": null,
   "id": "a1944ebc-db8a-4f6f-a46d-858ae4840f7b",
   "metadata": {},
   "outputs": [],
   "source": []
  },
  {
   "cell_type": "code",
   "execution_count": null,
   "id": "595dd07c-b570-4424-9a29-daa6840e3ccb",
   "metadata": {},
   "outputs": [],
   "source": []
  }
 ],
 "metadata": {
  "kernelspec": {
   "display_name": "Python 3 (ipykernel)",
   "language": "python",
   "name": "python3"
  },
  "language_info": {
   "codemirror_mode": {
    "name": "ipython",
    "version": 3
   },
   "file_extension": ".py",
   "mimetype": "text/x-python",
   "name": "python",
   "nbconvert_exporter": "python",
   "pygments_lexer": "ipython3",
   "version": "3.12.4"
  }
 },
 "nbformat": 4,
 "nbformat_minor": 5
}
